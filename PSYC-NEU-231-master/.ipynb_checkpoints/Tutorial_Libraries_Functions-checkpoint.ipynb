{
 "cells": [
  {
   "cell_type": "markdown",
   "metadata": {},
   "source": [
    "<div class=\"alert alert-info\"> \n",
    "libraries and functions - note to me: this should go after basic python stuff and control flow but before formal numpy tutorial\n",
    "</div>"
   ]
  },
  {
   "cell_type": "code",
   "execution_count": 2,
   "metadata": {},
   "outputs": [],
   "source": [
    "# import an entire library...will give you access to \n",
    "# all funcationality of the numpy library\n",
    "import numpy"
   ]
  },
  {
   "cell_type": "code",
   "execution_count": 4,
   "metadata": {},
   "outputs": [
    {
     "data": {
      "text/plain": [
       "1.5"
      ]
     },
     "execution_count": 4,
     "metadata": {},
     "output_type": "execute_result"
    }
   ],
   "source": [
    "# then you can access various numpy functionality by calling numpy.XXXX \n",
    "x = 1\n",
    "y = 2\n",
    "numpy.average([x,y])"
   ]
  },
  {
   "cell_type": "markdown",
   "metadata": {},
   "source": [
    "<div class=\"alert alert-info\"> \n",
    "you can find all available functions via the numpy.tab approach\n",
    "</div>"
   ]
  },
  {
   "cell_type": "code",
   "execution_count": null,
   "metadata": {},
   "outputs": [],
   "source": [
    "z = 2\n",
    "y = 15\n",
    "# now press the 'tab' key after typing the '.'. All the possible functionality is listed in a scroll down menu...\n",
    "numpy.       "
   ]
  },
  {
   "cell_type": "code",
   "execution_count": null,
   "metadata": {},
   "outputs": [],
   "source": [
    "# basic inline plotting\n",
    "#%matplotlib inline \n",
    "# nbagg, interactive inline plotting - cooler\n",
    "# %matplotlib notebook \n",
    "# make a plot in a separate window. \n",
    "# can be clunky sometimes but generally quite nice and makes plots easy to interact with and save in different formats\n",
    "%matplotlib qt \n",
    "\n",
    "plt.figure('interactive plot example')\n",
    "x = np.linspace(0, 5 * np.pi, 1000)\n",
    "for n in range(1, 4):\n",
    "    plt.plot(np.sin(n * x))\n",
    "\n",
    "plt.title('Some stuff to look at')\n",
    "plt.show()"
   ]
  },
  {
   "cell_type": "code",
   "execution_count": null,
   "metadata": {},
   "outputs": [],
   "source": [
    "# import a numpy object, then do stuff with it...\n",
    "import numpy as np   # for dealing with arrays etc...more later\n",
    "from numpy import pi # example of importing specific function or constant from a library\n",
    "import matplotlib.pyplot as plt # commonly used and matlab-like plotting library\n",
    "import matplotlib.mlab as mlab  # functions from matplotlib that mirror common matlab functions\n",
    "\n",
    "\n"
   ]
  }
 ],
 "metadata": {
  "kernelspec": {
   "display_name": "Python 3",
   "language": "python",
   "name": "python3"
  },
  "language_info": {
   "codemirror_mode": {
    "name": "ipython",
    "version": 3
   },
   "file_extension": ".py",
   "mimetype": "text/x-python",
   "name": "python",
   "nbconvert_exporter": "python",
   "pygments_lexer": "ipython3",
   "version": "3.6.6"
  }
 },
 "nbformat": 4,
 "nbformat_minor": 2
}
