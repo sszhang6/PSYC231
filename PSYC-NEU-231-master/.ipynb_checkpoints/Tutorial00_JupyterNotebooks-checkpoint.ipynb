{
 "cells": [
  {
   "cell_type": "markdown",
   "metadata": {},
   "source": [
    "# Brief intro to jupyter notebooks\n",
    "-  [for more general background see this overview of jupyter](https://www.datacamp.com/community/tutorials/tutorial-jupyter-notebook)\n",
    "- [markdown basics for nice formatting](https://jupyter-notebook.readthedocs.io/en/stable/examples/Notebook/Working%20With%20Markdown%20Cells.html)\n",
    "- [another good markdown cheatsheet](https://medium.com/ibm-data-science-experience/markdown-for-jupyter-notebooks-cheatsheet-386c05aeebed)\n",
    "-  [yet another good markdown cheat sheet](https://github.com/adam-p/markdown-here/wiki/Markdown-Cheatsheet)\n",
    "- [making colorful markdown cells](https://about.gitlab.com/handbook/product/technical-writing/markdown-guide/#colorful-sections)\n",
    "-  [info on line and cell magics](http://nbviewer.jupyter.org/github/ipython/ipython/blob/master/examples/IPython%20Kernel/Cell%20Magics.ipynb)\n",
    "- [another good overview of iPython magics](https://ipython.readthedocs.io/en/stable/interactive/magics.html)\n",
    "- [matplotlib info (basic setup stuff)](http://nbviewer.jupyter.org/github/ipython/ipython/blob/master/examples/IPython%20Kernel/Plotting%20in%20the%20Notebook.ipynb)\n",
    "- [more advanced notes on making clean looking notebooks, esp for sharing with non-technical audience](http://nbviewer.jupyter.org/github/csaid/polished_notebooks/blob/master/notebook_polished.ipynb)"
   ]
  },
  {
   "cell_type": "markdown",
   "metadata": {},
   "source": [
    "<div class=\"alert alert-info\"> \n",
    "Jupyter notebooks are a way of distributing code and showing the results of analyses inline. Promotes easy sharing of code, easy to reproduce results from other researchers. But most importantly, in my view, is that these serve as an interactive lab notebook - you can keep your notes and the code to implement your ideas all in one place\n",
    "</div>\n",
    "\n",
    "### The notebook runs a kernel that allows you to execute code (python for us, but also Julia, R, and other languages possible...even possible to mix and match languages).\n",
    "\n",
    "### Can also incorporate (i.e. call/excute) python scripts written in a more traditional IDE. This is handy if you have a frequently re-used function or if you have a large chunk of code that you want to put somewhere else to improve readability of the notebook. We'll play a bit with Spyder later in the course to see how this works, but there are many good IDEs out there. "
   ]
  },
  {
   "cell_type": "markdown",
   "metadata": {},
   "source": [
    "<div class = \"alert alert-info\">\n",
    "Keyboard shortcuts can save a lot of time. To check them out and to get a drop down list of options, use cmd+shift+p on a mac and cntrl+shift+p on linux/PC\n",
    "\n",
    "some basics: \n",
    "esc enters 'command mode'\n",
    "\n",
    "esc + b - insert new cell below \n",
    "\n",
    "others...\n",
    "\n",
    "[see this page for some handy tips/shortcuts](https://www.dataquest.io/blog/jupyter-notebook-tips-tricks-shortcuts/)\n",
    "\n",
    "</div>"
   ]
  },
  {
   "cell_type": "code",
   "execution_count": 1,
   "metadata": {},
   "outputs": [],
   "source": []
  },
  {
   "cell_type": "code",
   "execution_count": 6,
   "metadata": {},
   "outputs": [
    {
     "name": "stdout",
     "output_type": "stream",
     "text": [
      "4.91 µs ± 32.5 ns per loop (mean ± std. dev. of 7 runs, 100000 loops each)\n"
     ]
    }
   ],
   "source": [
    "import numpy as np\n",
    "# %lsmagic\n",
    "# %who\n",
    "%timeit np.random.logistic(size=100)\n",
    "# execute code in a separate python script - can save space in a code-heavy notebook but comes at some cost of clarity...\n",
    "# %run \n"
   ]
  },
  {
   "cell_type": "code",
   "execution_count": 2,
   "metadata": {},
   "outputs": [],
   "source": []
  },
  {
   "cell_type": "markdown",
   "metadata": {},
   "source": [
    "## importing libraries and functions - rule is to import as little as possible to keep overhead to a minimum"
   ]
  },
  {
   "cell_type": "code",
   "execution_count": 12,
   "metadata": {},
   "outputs": [],
   "source": [
    "import numpy as np"
   ]
  },
  {
   "cell_type": "code",
   "execution_count": 9,
   "metadata": {},
   "outputs": [
    {
     "data": {
      "text/plain": [
       "98.12620402425308"
      ]
     },
     "execution_count": 9,
     "metadata": {},
     "output_type": "execute_result"
    }
   ],
   "source": [
    "np.random.logistic(100)"
   ]
  },
  {
   "cell_type": "markdown",
   "metadata": {},
   "source": [
    "### write .py files from jupyter notebook (cell magic, so has %% instead of the line magic notation of %)"
   ]
  },
  {
   "cell_type": "code",
   "execution_count": 13,
   "metadata": {},
   "outputs": [
    {
     "name": "stdout",
     "output_type": "stream",
     "text": [
      "Writing write_example_function.py\n"
     ]
    }
   ],
   "source": [
    "%%writefile write_example_function.py\n",
    "\n",
    "def append_if_not_exists(arr, x):\n",
    "    if x not in arr:\n",
    "        arr.append(x)\n",
    "\n",
    "def some_useless_slow_function():\n",
    "    arr = list()\n",
    "    for i in range(10000):\n",
    "        x = numpy.random.randint(0, 10000)\n",
    "        append_if_not_exists(arr, x)"
   ]
  }
 ],
 "metadata": {
  "kernelspec": {
   "display_name": "Python 3",
   "language": "python",
   "name": "python3"
  },
  "language_info": {
   "codemirror_mode": {
    "name": "ipython",
    "version": 3
   },
   "file_extension": ".py",
   "mimetype": "text/x-python",
   "name": "python",
   "nbconvert_exporter": "python",
   "pygments_lexer": "ipython3",
   "version": "3.6.6"
  }
 },
 "nbformat": 4,
 "nbformat_minor": 2
}
