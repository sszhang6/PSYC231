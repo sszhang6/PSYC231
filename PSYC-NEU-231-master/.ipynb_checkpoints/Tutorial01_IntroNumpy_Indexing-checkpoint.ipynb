{
 "cells": [
  {
   "cell_type": "markdown",
   "metadata": {},
   "source": [
    "# Indexing and slicing and iterating in NumPy"
   ]
  },
  {
   "cell_type": "code",
   "execution_count": 2,
   "metadata": {},
   "outputs": [],
   "source": [
    "# import numpy lib and other libs for this tutorial\n",
    "import numpy as np"
   ]
  },
  {
   "cell_type": "code",
   "execution_count": 3,
   "metadata": {},
   "outputs": [
    {
     "name": "stdout",
     "output_type": "stream",
     "text": [
      "[100. 100. 100.]\n",
      "[  0. 100.   4.   6.]\n",
      "[  9.   8.   7.   6.   5.   4. 100. 100. 100.   0.]\n",
      "0.0\n",
      "300.0\n",
      "300.0\n",
      "300.0\n",
      "12.0\n",
      "15.0\n",
      "18.0\n",
      "21.0\n",
      "24.0\n",
      "27.0\n"
     ]
    }
   ],
   "source": [
    "# 1d arrays\n",
    "x = np.linspace(0,9,10)\n",
    "\n",
    "x[1]                     # just the second entry, remember 0 based indexing\n",
    "\n",
    "# specific start and stop points (exclusive)\n",
    "x[0:2]                   # the first and second entries in the array, so N>=0 and N<2 (note the < upper bound - not inclusive)\n",
    "\n",
    "# assign the 2nd - 4th element to 5 (index 1,2,3)\n",
    "x[1:4] = 100               \n",
    "print(x[1:4])\n",
    "\n",
    "# start, stop, step interval\n",
    "print(x[0:8:2])\n",
    "\n",
    "# reverse x\n",
    "print(x[::-1])\n",
    "\n",
    "# iterate over all elements in x\n",
    "for i in x:\n",
    "    print(i*3)    # then i takes value of each element in x"
   ]
  },
  {
   "cell_type": "markdown",
   "metadata": {},
   "source": [
    "#### multidimentional array indexing, slicing etc"
   ]
  },
  {
   "cell_type": "code",
   "execution_count": 4,
   "metadata": {},
   "outputs": [
    {
     "name": "stdout",
     "output_type": "stream",
     "text": [
      "[[ 7.  8.  5.  5.  4.]\n",
      " [ 7.  0.  8.  8.  9.]\n",
      " [ 0.  3.  6.  5.  9.]\n",
      " [ 0.  6.  2.  1.  0.]\n",
      " [ 3.  8.  4.  4.  7.]\n",
      " [ 9.  4.  1.  5.  5.]\n",
      " [ 9.  7.  5.  8.  8.]\n",
      " [ 0.  8.  3.  5.  1.]\n",
      " [ 8.  3. 10.  4.  2.]\n",
      " [ 9.  1.  5.  7.  5.]]\n",
      "last row:  [9. 1. 5. 7. 5.]\n",
      "last column:  [4. 9. 9. 0. 7. 5. 8. 1. 2. 5.]\n",
      "last entry:  5.0\n",
      "[7. 8. 5. 5. 4.]\n",
      "[7. 0. 8. 8. 9.]\n",
      "[0. 3. 6. 5. 9.]\n",
      "[0. 6. 2. 1. 0.]\n",
      "[3. 8. 4. 4. 7.]\n",
      "[9. 4. 1. 5. 5.]\n",
      "[9. 7. 5. 8. 8.]\n",
      "[0. 8. 3. 5. 1.]\n",
      "[ 8.  3. 10.  4.  2.]\n",
      "[9. 1. 5. 7. 5.]\n",
      "7.0\n",
      "8.0\n",
      "5.0\n",
      "5.0\n",
      "4.0\n",
      "7.0\n",
      "0.0\n",
      "8.0\n",
      "8.0\n",
      "9.0\n",
      "0.0\n",
      "3.0\n",
      "6.0\n",
      "5.0\n",
      "9.0\n",
      "0.0\n",
      "6.0\n",
      "2.0\n",
      "1.0\n",
      "0.0\n",
      "3.0\n",
      "8.0\n",
      "4.0\n",
      "4.0\n",
      "7.0\n",
      "9.0\n",
      "4.0\n",
      "1.0\n",
      "5.0\n",
      "5.0\n",
      "9.0\n",
      "7.0\n",
      "5.0\n",
      "8.0\n",
      "8.0\n",
      "0.0\n",
      "8.0\n",
      "3.0\n",
      "5.0\n",
      "1.0\n",
      "8.0\n",
      "3.0\n",
      "10.0\n",
      "4.0\n",
      "2.0\n",
      "9.0\n",
      "1.0\n",
      "5.0\n",
      "7.0\n",
      "5.0\n"
     ]
    }
   ],
   "source": [
    "x = np.round(np.random.rand(10,5)*10)   # generate a matrix of uniformly distributed random numbers over 0:10\n",
    "print(x)\n",
    "\n",
    "x[0,0]     # first row, first column\n",
    "x[2,3]     # third row, 4th column\n",
    "\n",
    "x[:, 3]    # all entries in the 4th column \n",
    "x[3, :]    # all entries in the 4th row\n",
    "x[0:2, 4]  # first two entries of the 5th column\n",
    "x[6, 2:4]  # 7th row, 3rd and 4th entries. \n",
    "\n",
    "x[6]       # if not all dims specified then missing values are considered complete slices\n",
    "x[6,]      # these three ways of writing all do the same thing...\n",
    "x[6,:]\n",
    "\n",
    "# trick\n",
    "print('last row: ', x[-1,:])     # last row\n",
    "print('last column: ', x[:,-1])  # last column\n",
    "print('last entry: ', x[-1,-1])  # last value\n",
    "\n",
    "# iterating goes over the first dim (rows)\n",
    "for r in x:\n",
    "     print(r)\n",
    "        \n",
    "# can also iterate over all entries in the array using 'flat'\n",
    "# will proceed along 1st row, then to 2nd row, etc. \n",
    "for a in x.flat:\n",
    "    print(a)"
   ]
  },
  {
   "cell_type": "markdown",
   "metadata": {},
   "source": [
    "#### pull out subset of rows and columns"
   ]
  },
  {
   "cell_type": "code",
   "execution_count": 5,
   "metadata": {},
   "outputs": [
    {
     "name": "stdout",
     "output_type": "stream",
     "text": [
      "[[0.59967694 0.62153837 0.19577066]\n",
      " [0.00909038 0.66792274 0.03402508]\n",
      " [0.79002772 0.88402796 0.53891109]\n",
      " [0.73227913 0.43341216 0.82009621]]\n",
      "\n",
      " [[0.59967694 0.62153837 0.19577066]\n",
      " [0.00909038 0.66792274 0.03402508]]\n",
      "\n",
      " [[0.79002772 0.88402796 0.53891109]\n",
      " [0.73227913 0.43341216 0.82009621]]\n",
      "\n",
      " [0.59967694 0.00909038]\n",
      "\n",
      " [[0.88402796 0.53891109]\n",
      " [0.43341216 0.82009621]]\n"
     ]
    }
   ],
   "source": [
    "# generate a matrix of random numbers over 0-1\n",
    "x = np.random.rand(4,3) \n",
    "print(x)\n",
    "\n",
    "# first two rows - note that you don't have to specify the 2nd dim - and note that \n",
    "# '2' here means rows 0 and 1 (not 0 through 2)\n",
    "y = x[:2] \n",
    "print('\\n', y)\n",
    "\n",
    "# can also take the last two rows...in the same manner...in this case rows 3 and 4\n",
    "y = x[2:] \n",
    "print('\\n', y)\n",
    "\n",
    "# first two rows, 1st column\n",
    "y = x[:2,0] \n",
    "print('\\n', y)\n",
    "\n",
    "# last two rows, last 2 columns (i.e. from column 2 - end)\n",
    "y = x[2:,1:]\n",
    "print('\\n', y)"
   ]
  },
  {
   "cell_type": "markdown",
   "metadata": {},
   "source": [
    "<div class=\"alert alert-info\">\n",
    "important - slicing an array creates a view of it! if you change the view, you also will change the original!\n",
    "</div>"
   ]
  },
  {
   "cell_type": "code",
   "execution_count": 6,
   "metadata": {},
   "outputs": [
    {
     "name": "stdout",
     "output_type": "stream",
     "text": [
      "(4, 3)\n",
      "[[100. 100. 100.]\n",
      " [100. 100. 100.]\n",
      " [100. 100. 100.]\n",
      " [100. 100. 100.]]\n"
     ]
    }
   ],
   "source": [
    "z = x[:,]\n",
    "print(z.shape)\n",
    "\n",
    "z[:]=100     # so if you change data in z it will also change in x\n",
    "\n",
    "print(x)"
   ]
  },
  {
   "cell_type": "markdown",
   "metadata": {},
   "source": [
    "### Fancy indexing...using arrays to index arrays - used all the time in data analysis..."
   ]
  },
  {
   "cell_type": "markdown",
   "metadata": {},
   "source": [
    "<div class=\"alert alert-info\">\n",
    "Note: fancy indexing always makes a COPY of the data (unlike slicing)\n",
    "</div>"
   ]
  },
  {
   "cell_type": "code",
   "execution_count": 11,
   "metadata": {},
   "outputs": [
    {
     "name": "stdout",
     "output_type": "stream",
     "text": [
      "[[0.06081509 0.74882825 0.67983947 0.41996972]\n",
      " [0.59073288 0.26756348 0.88242468 0.43816896]\n",
      " [0.21631921 0.80797748 0.16758545 0.54503405]]\n",
      "\n",
      " x indexed at tuple y:  0.5450340506222576\n"
     ]
    }
   ],
   "source": [
    "# define an array\n",
    "x = np.random.rand(3,4)\n",
    "\n",
    "# index array - can be a tuple\n",
    "y = (2,3)\n",
    "\n",
    "# index\n",
    "print(x)\n",
    "print('\\n x indexed at tuple y: ', x[y])"
   ]
  },
  {
   "cell_type": "code",
   "execution_count": 12,
   "metadata": {},
   "outputs": [
    {
     "name": "stdout",
     "output_type": "stream",
     "text": [
      "\n",
      " [[0.06081509 0.74882825 0.67983947 0.41996972]\n",
      " [0.59073288 0.26756348 0.88242468 0.43816896]\n",
      " [0.21631921 0.80797748 0.16758545 0.54503405]]\n"
     ]
    },
    {
     "data": {
      "text/plain": [
       "array([[0.74882825, 0.67983947, 0.06081509],\n",
       "       [0.26756348, 0.88242468, 0.59073288],\n",
       "       [0.80797748, 0.16758545, 0.21631921]])"
      ]
     },
     "execution_count": 12,
     "metadata": {},
     "output_type": "execute_result"
    }
   ],
   "source": [
    "# can use fancy indexing to extract info in a particular order\n",
    "print(x)\n",
    "\n",
    "# this will extract the 3rd row, then the 2nd row, then the first row\n",
    "x[[2,1,0]]\n",
    "\n",
    "# this will extract all columns from the 3rd row, then the 1st row, then the 2nd row\n",
    "x[[2,0,1]]\n",
    "\n",
    "# and this will extract all rows from the 2nd, 3rd and then 1st column. \n",
    "x[:,[1,2,0]]"
   ]
  },
  {
   "cell_type": "code",
   "execution_count": null,
   "metadata": {},
   "outputs": [],
   "source": [
    "# or can pass in multiple arrays...will return a 1D array \n",
    "# corresponding to each set of tuples (1,1) and (2,2) in this case\n",
    "print(x)\n",
    "x[[1,2],[1,2]]"
   ]
  },
  {
   "cell_type": "markdown",
   "metadata": {},
   "source": [
    "<div class=\"alert alert-info\">\n",
    "As opposed to selecting a set of tuples, you can also select a block of indices from a matrix. \n",
    "</div>"
   ]
  },
  {
   "cell_type": "code",
   "execution_count": null,
   "metadata": {},
   "outputs": [],
   "source": [
    "# grab the lower right chunk of data. \n",
    "print(x)\n",
    "print(x[[1,2]][:,[2,3]])"
   ]
  }
 ],
 "metadata": {
  "kernelspec": {
   "display_name": "Python 3",
   "language": "python",
   "name": "python3"
  },
  "language_info": {
   "codemirror_mode": {
    "name": "ipython",
    "version": 3
   },
   "file_extension": ".py",
   "mimetype": "text/x-python",
   "name": "python",
   "nbconvert_exporter": "python",
   "pygments_lexer": "ipython3",
   "version": "3.6.6"
  }
 },
 "nbformat": 4,
 "nbformat_minor": 2
}
