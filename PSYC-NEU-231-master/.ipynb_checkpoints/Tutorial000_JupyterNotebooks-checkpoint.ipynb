{
 "cells": [
  {
   "cell_type": "markdown",
   "metadata": {},
   "source": [
    "# Brief intro to jupyter notebooks\n",
    "-  [for more general background see this overview of jupyter](https://www.datacamp.com/community/tutorials/tutorial-jupyter-notebook)\n",
    "- [markdown basics for nice formatting](https://jupyter-notebook.readthedocs.io/en/stable/examples/Notebook/Working%20With%20Markdown%20Cells.html)\n",
    "- [another good markdown cheatsheet](https://medium.com/ibm-data-science-experience/markdown-for-jupyter-notebooks-cheatsheet-386c05aeebed)\n",
    "-  [yet another good markdown cheat sheet](https://github.com/adam-p/markdown-here/wiki/Markdown-Cheatsheet)\n",
    "- [making colorful markdown cells](https://about.gitlab.com/handbook/product/technical-writing/markdown-guide/#colorful-sections)\n",
    "-  [info on line and cell magics](http://nbviewer.jupyter.org/github/ipython/ipython/blob/master/examples/IPython%20Kernel/Cell%20Magics.ipynb)\n",
    "- [another good overview of iPython magics](https://ipython.readthedocs.io/en/stable/interactive/magics.html)\n",
    "- [matplotlib info (basic setup stuff)](http://nbviewer.jupyter.org/github/ipython/ipython/blob/master/examples/IPython%20Kernel/Plotting%20in%20the%20Notebook.ipynb)\n",
    "- [more advanced notes on making clean looking notebooks, esp for sharing with non-technical audience](http://nbviewer.jupyter.org/github/csaid/polished_notebooks/blob/master/notebook_polished.ipynb)"
   ]
  },
  {
   "cell_type": "markdown",
   "metadata": {},
   "source": [
    "<div class=\"alert alert-info\"> \n",
    "Jupyter notebooks are a way of distributing code and showing the results of analyses inline. Promotes easy sharing of code, easy to reproduce results from other researchers. But most importantly, in my view, is that these serve as an interactive lab notebook - you can keep your notes and the code to implement your ideas all in one place\n",
    "</div>\n",
    "\n",
    "### The notebook runs a kernel that allows you to execute code (python (iPython) for us, but also Julia, R, and other languages possible...even possible to mix and match languages).\n",
    "\n",
    "### Can also incorporate (i.e. call/excute) python scripts written in a more traditional IDE. This is handy if you have a frequently re-used function or if you have a large chunk of code that you want to put somewhere else to improve readability of the notebook. We'll play a bit with Spyder later in the course to see how this works, but there are many good IDEs out there. "
   ]
  },
  {
   "cell_type": "markdown",
   "metadata": {},
   "source": [
    "<div class=\"alert alert-info\">\n",
    "Keyboard shortcuts can save a lot of time. To check them out and to get a drop down list of options, use cmd shift p on a mac and cntrl shift p on linux or a PC\n",
    "</div>"
   ]
  },
  {
   "cell_type": "markdown",
   "metadata": {},
   "source": [
    "some basics: \n",
    "esc enters 'command mode'\n",
    "\n",
    "esc + b - insert new cell below \n",
    "\n",
    "others...\n",
    "\n",
    "[see this page for some handy tips/shortcuts](https://www.dataquest.io/blog/jupyter-notebook-tips-tricks-shortcuts/)"
   ]
  },
  {
   "cell_type": "markdown",
   "metadata": {},
   "source": [
    "### some notes on markdown colors"
   ]
  },
  {
   "cell_type": "markdown",
   "metadata": {},
   "source": [
    "<div class=\"alert alert-info\">\n",
    "if you see this color in a markdown header, then its friendly information :)\n",
    "</div>"
   ]
  },
  {
   "cell_type": "markdown",
   "metadata": {},
   "source": [
    "<div class=\"alert alert-success\">\n",
    "if you see this color in a markdown header, then it means something good happened! success!\n",
    "</div>"
   ]
  },
  {
   "cell_type": "markdown",
   "metadata": {},
   "source": [
    "<div class=\"alert alert-warning\">\n",
    "if you see this color in a markdown header, then pay attention! its a warning!\n",
    "</div>"
   ]
  },
  {
   "cell_type": "markdown",
   "metadata": {},
   "source": [
    "<div class=\"alert alert-danger\">\n",
    "if you see this color in a markdown header, then run screaming from the room...something dangerous is happening!\n",
    "</div>"
   ]
  },
  {
   "cell_type": "markdown",
   "metadata": {},
   "source": [
    "### this is a markdown cell - used to write notes/comments about code. Use markdown to make it fancy (see links above)!"
   ]
  },
  {
   "cell_type": "code",
   "execution_count": 2,
   "metadata": {},
   "outputs": [
    {
     "name": "stdout",
     "output_type": "stream",
     "text": [
      "[0, 1, 2, 3, 4, 5, 6, 7, 8, 9, 10]\n"
     ]
    }
   ],
   "source": [
    "#this is a code cell...suprisingly, we write code here \n",
    "\n",
    "a_simple_list = [0,1,2,3,4,5,6,7,8,9,10]\n",
    "print(a_simple_list)"
   ]
  },
  {
   "cell_type": "markdown",
   "metadata": {},
   "source": [
    "### magic commands - iPython supports a set of commands that are handy to use (including some matlab-like functions)...for now just introducing 'line' magic commands, but will talk a bit about 'cell' magic commands later. "
   ]
  },
  {
   "cell_type": "code",
   "execution_count": 3,
   "metadata": {},
   "outputs": [
    {
     "name": "stdout",
     "output_type": "stream",
     "text": [
      "83.8 ns ± 4.43 ns per loop (mean ± std. dev. of 7 runs, 10000000 loops each)\n"
     ]
    }
   ],
   "source": [
    "# on of my favorites for estimating the duration of operations - good for identifying slow parts and making code\n",
    "# more effecient. \n",
    "\n",
    "%timeit a_simple_list = [0,1,2,3,4,5,6,7,8,9,10]\n",
    "\n",
    "# execute code in a separate python script - can save space in a code-heavy notebook\n",
    "# %run"
   ]
  },
  {
   "cell_type": "code",
   "execution_count": 4,
   "metadata": {},
   "outputs": [
    {
     "data": {
      "application/json": {
       "cell": {
        "!": "OSMagics",
        "HTML": "Other",
        "SVG": "Other",
        "bash": "Other",
        "capture": "ExecutionMagics",
        "cmd": "Other",
        "debug": "ExecutionMagics",
        "file": "Other",
        "html": "DisplayMagics",
        "javascript": "DisplayMagics",
        "js": "DisplayMagics",
        "latex": "DisplayMagics",
        "markdown": "DisplayMagics",
        "perl": "Other",
        "prun": "ExecutionMagics",
        "pypy": "Other",
        "python": "Other",
        "python2": "Other",
        "python3": "Other",
        "ruby": "Other",
        "script": "ScriptMagics",
        "sh": "Other",
        "svg": "DisplayMagics",
        "sx": "OSMagics",
        "system": "OSMagics",
        "time": "ExecutionMagics",
        "timeit": "ExecutionMagics",
        "writefile": "OSMagics"
       },
       "line": {
        "alias": "OSMagics",
        "alias_magic": "BasicMagics",
        "autocall": "AutoMagics",
        "automagic": "AutoMagics",
        "autosave": "KernelMagics",
        "bookmark": "OSMagics",
        "cd": "OSMagics",
        "clear": "KernelMagics",
        "cls": "KernelMagics",
        "colors": "BasicMagics",
        "config": "ConfigMagics",
        "connect_info": "KernelMagics",
        "copy": "Other",
        "ddir": "Other",
        "debug": "ExecutionMagics",
        "dhist": "OSMagics",
        "dirs": "OSMagics",
        "doctest_mode": "BasicMagics",
        "echo": "Other",
        "ed": "Other",
        "edit": "KernelMagics",
        "env": "OSMagics",
        "gui": "BasicMagics",
        "hist": "Other",
        "history": "HistoryMagics",
        "killbgscripts": "ScriptMagics",
        "ldir": "Other",
        "less": "KernelMagics",
        "load": "CodeMagics",
        "load_ext": "ExtensionMagics",
        "loadpy": "CodeMagics",
        "logoff": "LoggingMagics",
        "logon": "LoggingMagics",
        "logstart": "LoggingMagics",
        "logstate": "LoggingMagics",
        "logstop": "LoggingMagics",
        "ls": "Other",
        "lsmagic": "BasicMagics",
        "macro": "ExecutionMagics",
        "magic": "BasicMagics",
        "matplotlib": "PylabMagics",
        "mkdir": "Other",
        "more": "KernelMagics",
        "notebook": "BasicMagics",
        "page": "BasicMagics",
        "pastebin": "CodeMagics",
        "pdb": "ExecutionMagics",
        "pdef": "NamespaceMagics",
        "pdoc": "NamespaceMagics",
        "pfile": "NamespaceMagics",
        "pinfo": "NamespaceMagics",
        "pinfo2": "NamespaceMagics",
        "pip": "BasicMagics",
        "popd": "OSMagics",
        "pprint": "BasicMagics",
        "precision": "BasicMagics",
        "profile": "BasicMagics",
        "prun": "ExecutionMagics",
        "psearch": "NamespaceMagics",
        "psource": "NamespaceMagics",
        "pushd": "OSMagics",
        "pwd": "OSMagics",
        "pycat": "OSMagics",
        "pylab": "PylabMagics",
        "qtconsole": "KernelMagics",
        "quickref": "BasicMagics",
        "recall": "HistoryMagics",
        "rehashx": "OSMagics",
        "reload_ext": "ExtensionMagics",
        "ren": "Other",
        "rep": "Other",
        "rerun": "HistoryMagics",
        "reset": "NamespaceMagics",
        "reset_selective": "NamespaceMagics",
        "rmdir": "Other",
        "run": "ExecutionMagics",
        "save": "CodeMagics",
        "sc": "OSMagics",
        "set_env": "OSMagics",
        "store": "StoreMagics",
        "sx": "OSMagics",
        "system": "OSMagics",
        "tb": "ExecutionMagics",
        "time": "ExecutionMagics",
        "timeit": "ExecutionMagics",
        "unalias": "OSMagics",
        "unload_ext": "ExtensionMagics",
        "who": "NamespaceMagics",
        "who_ls": "NamespaceMagics",
        "whos": "NamespaceMagics",
        "xdel": "NamespaceMagics",
        "xmode": "BasicMagics"
       }
      },
      "text/plain": [
       "Available line magics:\n",
       "%alias  %alias_magic  %autocall  %automagic  %autosave  %bookmark  %cd  %clear  %cls  %colors  %config  %connect_info  %copy  %ddir  %debug  %dhist  %dirs  %doctest_mode  %echo  %ed  %edit  %env  %gui  %hist  %history  %killbgscripts  %ldir  %less  %load  %load_ext  %loadpy  %logoff  %logon  %logstart  %logstate  %logstop  %ls  %lsmagic  %macro  %magic  %matplotlib  %mkdir  %more  %notebook  %page  %pastebin  %pdb  %pdef  %pdoc  %pfile  %pinfo  %pinfo2  %popd  %pprint  %precision  %profile  %prun  %psearch  %psource  %pushd  %pwd  %pycat  %pylab  %qtconsole  %quickref  %recall  %rehashx  %reload_ext  %ren  %rep  %rerun  %reset  %reset_selective  %rmdir  %run  %save  %sc  %set_env  %store  %sx  %system  %tb  %time  %timeit  %unalias  %unload_ext  %who  %who_ls  %whos  %xdel  %xmode\n",
       "\n",
       "Available cell magics:\n",
       "%%!  %%HTML  %%SVG  %%bash  %%capture  %%cmd  %%debug  %%file  %%html  %%javascript  %%js  %%latex  %%markdown  %%perl  %%prun  %%pypy  %%python  %%python2  %%python3  %%ruby  %%script  %%sh  %%svg  %%sx  %%system  %%time  %%timeit  %%writefile\n",
       "\n",
       "Automagic is ON, % prefix IS NOT needed for line magics."
      ]
     },
     "execution_count": 4,
     "metadata": {},
     "output_type": "execute_result"
    }
   ],
   "source": [
    "# list out all available line magic commands\n",
    "%lsmagic"
   ]
  },
  {
   "cell_type": "code",
   "execution_count": 5,
   "metadata": {},
   "outputs": [
    {
     "name": "stdout",
     "output_type": "stream",
     "text": [
      "a_simple_list\t another_simple_list\t \n",
      "x\t \n"
     ]
    }
   ],
   "source": [
    "#  matlab-like who function\n",
    "a_simple_list = [0,1,2,3,4,5,6,7,8,9,10]\n",
    "another_simple_list = [0,1,2,3,4,5,6,7,8,9,10]\n",
    "x = 10  # not a list, but an integer\n",
    "%who list \n",
    "%who int"
   ]
  },
  {
   "cell_type": "code",
   "execution_count": 8,
   "metadata": {},
   "outputs": [],
   "source": [
    "# can run functions inline - often nice if you have lots of code in your notebook - can copy some out to a IDE\n",
    "# and make a .py function. More on this later too when we'll discuss .py standalone files. \n",
    "%run"
   ]
  },
  {
   "cell_type": "markdown",
   "metadata": {},
   "source": [
    "### importing libraries and functions - rule is generally to import a module and give it a shorter name to access functions...makes it easier to type. "
   ]
  },
  {
   "cell_type": "code",
   "execution_count": 9,
   "metadata": {},
   "outputs": [],
   "source": [
    "import numpy as np"
   ]
  },
  {
   "cell_type": "code",
   "execution_count": 10,
   "metadata": {},
   "outputs": [
    {
     "data": {
      "text/plain": [
       "array([0.78516455, 0.48815157, 0.8135103 , 0.76876537, 0.9158247 ,\n",
       "       0.6298123 , 0.67057178, 0.51999592, 0.32586835, 0.9326869 ,\n",
       "       0.49506011, 0.30767996, 0.39871482, 0.6529991 , 0.75681502,\n",
       "       0.68081387, 0.64690206, 0.14379479, 0.71343838, 0.28439432,\n",
       "       0.40761814, 0.09520378, 0.48963181, 0.15182258, 0.96503866,\n",
       "       0.12213929, 0.39630084, 0.66302436, 0.70176607, 0.45308662,\n",
       "       0.57972718, 0.21768077, 0.44974912, 0.31495313, 0.61990371,\n",
       "       0.46953442, 0.45936203, 0.90280931, 0.32213876, 0.64741073,\n",
       "       0.10098211, 0.18514661, 0.3218411 , 0.13550535, 0.21697675,\n",
       "       0.79570137, 0.22672021, 0.79562409, 0.47301236, 0.40650174,\n",
       "       0.24882039, 0.42099296, 0.62094641, 0.6317371 , 0.80501801,\n",
       "       0.71789972, 0.26359325, 0.77828708, 0.52797383, 0.17838852,\n",
       "       0.76820741, 0.03096945, 0.33290571, 0.77308828, 0.28890428,\n",
       "       0.89440333, 0.79070067, 0.05333347, 0.61298681, 0.72353404,\n",
       "       0.61014836, 0.47301757, 0.29339244, 0.50574776, 0.61125062,\n",
       "       0.19762252, 0.81387106, 0.03514378, 0.5847129 , 0.70869594,\n",
       "       0.51584222, 0.17174465, 0.16368425, 0.01208487, 0.59315863,\n",
       "       0.99237441, 0.0204212 , 0.10112573, 0.27706599, 0.73494704,\n",
       "       0.95117427, 0.35105075, 0.93524579, 0.50659714, 0.39767982,\n",
       "       0.05669458, 0.87350294, 0.87714615, 0.11545227, 0.7153268 ])"
      ]
     },
     "execution_count": 10,
     "metadata": {},
     "output_type": "execute_result"
    }
   ],
   "source": [
    "np.random.rand(100)"
   ]
  },
  {
   "cell_type": "markdown",
   "metadata": {},
   "source": [
    "### Sometimes if you're only using 1 or 2 functions then you can import JUST that function to make it easier...then you don't have to use the np.XXX notation...note the different terminology \"from module import function\" "
   ]
  },
  {
   "cell_type": "code",
   "execution_count": null,
   "metadata": {},
   "outputs": [],
   "source": [
    "from numpy import arange #import only some functions from the library \n",
    "x = arange(10) \n",
    "print(x)"
   ]
  },
  {
   "cell_type": "markdown",
   "metadata": {},
   "source": [
    "### can even import ALL functions from a module like this:"
   ]
  },
  {
   "cell_type": "code",
   "execution_count": null,
   "metadata": {},
   "outputs": [],
   "source": [
    "from numpy import * # just make sure you use abreviation for different library to avoid name conflict. \n",
    "x = arange(10)\n",
    "y = array([1, 2, 3, 4])\n",
    "\n",
    "print('x is: ', x, '\\ny is: ', y)"
   ]
  },
  {
   "cell_type": "markdown",
   "metadata": {},
   "source": [
    "### but be super careful! \n"
   ]
  },
  {
   "cell_type": "markdown",
   "metadata": {},
   "source": [
    "<div class=\"alert alert-warning\">\n",
    "Importing all functions from a module can lead to conflicting functions in the namespace. For example there is a core python 'array' function that operates differently than the numpy 'array' (mostly in terms of functionality). This can lead to lots of confusion when reading code and might lead to unintended consequences. Best practice is usually to use the 'import numpy as np' unless you really just need 1-2 functions and your code is encapsulated from other stuff that might lead to conflicts. You should probably just avoid the \"from xx import *\". \n",
    "</div>"
   ]
  }
 ],
 "metadata": {
  "kernelspec": {
   "display_name": "Python 3",
   "language": "python",
   "name": "python3"
  },
  "language_info": {
   "codemirror_mode": {
    "name": "ipython",
    "version": 3
   },
   "file_extension": ".py",
   "mimetype": "text/x-python",
   "name": "python",
   "nbconvert_exporter": "python",
   "pygments_lexer": "ipython3",
   "version": "3.7.0"
  }
 },
 "nbformat": 4,
 "nbformat_minor": 2
}
