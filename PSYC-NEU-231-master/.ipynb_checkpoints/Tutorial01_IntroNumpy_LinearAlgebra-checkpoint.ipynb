{
 "cells": [
  {
   "cell_type": "markdown",
   "metadata": {},
   "source": [
    "# Intro to linear algebra with NumPY\n",
    "[SciPy Reference page](https://docs.scipy.org/doc/numpy-1.14.0/reference/routines.linalg.html#matrix-and-vector-products)"
   ]
  },
  {
   "cell_type": "markdown",
   "metadata": {},
   "source": [
    "<div class=\"alert alert-info\">\n",
    "The ability to do matrix operations without looping is a super important feature of numpy (and matlab). If you're not familiar with matrix operations it can take some getting used to but mastering this stuff will make your code much faster and readable\n",
    "</div>"
   ]
  },
  {
   "cell_type": "code",
   "execution_count": 2,
   "metadata": {},
   "outputs": [],
   "source": [
    "# import numpy\n",
    "import numpy as np"
   ]
  },
  {
   "cell_type": "markdown",
   "metadata": {},
   "source": [
    "### first lets write out some simple operations using loops"
   ]
  },
  {
   "cell_type": "code",
   "execution_count": 21,
   "metadata": {},
   "outputs": [
    {
     "name": "stdout",
     "output_type": "stream",
     "text": [
      "x = [0 1 2 3 4] \n",
      "y = [ 0.   2.5  5.   7.5 10. ]\n",
      "Element-wise product of x and y is: [ 0.   2.5 10.  22.5 40. ]\n"
     ]
    }
   ],
   "source": [
    "# make two vectors\n",
    "x = np.arange(5)        # note that this is a vector of ints by default\n",
    "y = np.linspace(0,10,5) # and this is a vector of floats\n",
    "\n",
    "print('x =', x,'\\ny =', y)\n",
    "\n",
    "# then do element by element multiplication\n",
    "z = np.zeros((x.size))\n",
    "for i in range(x.size):\n",
    "    z[i] = y[i]*x[i]\n",
    "\n",
    "print('Element-wise product of x and y is:', z)  "
   ]
  },
  {
   "cell_type": "markdown",
   "metadata": {},
   "source": [
    "<div class=\"alert alert-info\">\n",
    "BUT! much much easier and faster to do the element wise operation all in one line making use of numpy's matrix capabilities\n",
    "</div>"
   ]
  },
  {
   "cell_type": "code",
   "execution_count": 26,
   "metadata": {},
   "outputs": [
    {
     "name": "stdout",
     "output_type": "stream",
     "text": [
      "[ 0.   2.5 10.  22.5 40. ]\n",
      "[1.00000000e+00 1.00000000e+00 3.20000000e+01 3.78799512e+03\n",
      " 1.04857600e+06]\n",
      "[0.         0.28571429 0.33333333 0.35294118 0.36363636]\n"
     ]
    }
   ],
   "source": [
    "print(x*y)  # elementwise multiply\n",
    "print(x**y) # elementwise x^y\n",
    "print(x/y)  # elementwise division...why does this throw a runtime warning?"
   ]
  },
  {
   "cell_type": "markdown",
   "metadata": {},
   "source": [
    "### do a speed test!"
   ]
  },
  {
   "cell_type": "code",
   "execution_count": 31,
   "metadata": {},
   "outputs": [
    {
     "name": "stdout",
     "output_type": "stream",
     "text": [
      "36.2 µs ± 1.14 µs per loop (mean ± std. dev. of 7 runs, 10000 loops each)\n"
     ]
    }
   ],
   "source": [
    "# first do this using a 'for' loop\n",
    "\n",
    "num_elements = 100\n",
    "x = np.arange(num_elements) \n",
    "y = np.arange(num_elements)\n",
    "\n",
    "z = np.zeros((num_elements))\n",
    "\n",
    "# loop and element-wise multiply\n",
    "%timeit for i in range(num_elements): z[i] = x[i] * y[i]\n"
   ]
  },
  {
   "cell_type": "code",
   "execution_count": 32,
   "metadata": {},
   "outputs": [
    {
     "name": "stdout",
     "output_type": "stream",
     "text": [
      "496 ns ± 4.9 ns per loop (mean ± std. dev. of 7 runs, 1000000 loops each)\n"
     ]
    }
   ],
   "source": [
    "# then the same thing using matrix operations\n",
    "%timeit z = x*y"
   ]
  },
  {
   "cell_type": "code",
   "execution_count": null,
   "metadata": {},
   "outputs": [],
   "source": [
    "print(x.dot(x.T)) # use dot for matrix multiplication (not elementwise) - .T is transpose and this is sum-of-squares\n",
    "print(x.dot(y.T)) # sum of x*y for all x,y"
   ]
  },
  {
   "cell_type": "code",
   "execution_count": null,
   "metadata": {},
   "outputs": [],
   "source": [
    "# matrix multiply\n",
    "X = np.arange(20).reshape(5,4)\n",
    "Y = np.linspace(21,40,20).reshape(5,4)\n",
    "X.dot(Y.T)     # transpose so that columns == rows\n",
    "#np.dot(X,Y.T) # same thing..."
   ]
  },
  {
   "attachments": {},
   "cell_type": "markdown",
   "metadata": {},
   "source": [
    "## Another example of common computation done with loops vs numpy (and intro to list comprehensions) \n",
    "\n",
    "Inner and Outer Products\n",
    "\n",
    "The inner or dot product of two vectors is the sum of each element in x1 times its corresponding elements in x2 (vectors must be the same length) resulting in a scalar\n",
    "\n",
    "![inner product](https://wikimedia.org/api/rest_v1/media/math/render/svg/f34a08cf90c047dda30221011ab45936957431c3)\n",
    "\n",
    "The outer product of two vectors results in a square matrix of side length == len(x1) == len(x2)\n",
    "\n",
    "![outer product](https://wikimedia.org/api/rest_v1/media/math/render/svg/583d2f9f02f2644aa0acd092a29a9d0e49df1b4a)"
   ]
  },
  {
   "cell_type": "code",
   "execution_count": null,
   "metadata": {},
   "outputs": [],
   "source": [
    "# first make our vectors\n",
    "x1 = np.arange(15)\n",
    "x2 = np.arange(15)"
   ]
  },
  {
   "cell_type": "code",
   "execution_count": null,
   "metadata": {},
   "outputs": [],
   "source": [
    "p_in = [] # initialize empty list\n",
    "\n",
    "# test to make sure that the two lists are the same length \n",
    "assert (len(x1)==len(x2)), 'Lists must be the same length!'\n",
    "\n",
    "\n",
    "for i in range(len(x1)): # iterate through indicies of vectors\n",
    "    p_in.append(x1[i]*x2[i])\n",
    "print('Inner Product: %d' %sum(p_in)) # Print Output\n",
    "\n",
    "p_out = [] # initialize empty list\n",
    "\n",
    "assert (len(x1)==len(x2)), 'Lists must be the same length!'\n",
    "\n",
    "for i in range(len(x1)): # iterate through indicies of vectors\n",
    "    row = [] # initialize sub list\n",
    "    for j in range(len(x2)):\n",
    "        row.append(x1[i]*x2[j])\n",
    "    p_out.append(row)\n",
    "\n",
    "print('Outer Product:') # Print Output\n",
    "p_out"
   ]
  },
  {
   "cell_type": "markdown",
   "metadata": {},
   "source": [
    "# List Comprehensions\n",
    "[more info on list comprehensions](https://www.pythonforbeginners.com/basics/list-comprehensions-in-python)\n",
    "\n",
    "A more compact way to perform these operations is through \"list comprehension\" which essentially compresses a for-loop into a single line. As with the above example, the operation can be nested. Note - we're using this on numpy arrays here, not python lists, so the name 'list comprehensions' might be a little confusing. \n",
    "\n",
    "[see here for more on the difference between python lists and numpy arrays](https://webcourses.ucf.edu/courses/1249560/pages/python-lists-vs-numpy-arrays-what-is-the-difference)"
   ]
  },
  {
   "cell_type": "code",
   "execution_count": null,
   "metadata": {},
   "outputs": [],
   "source": [
    "c_in = [x1[i]*x2[i] for i in range(len(x1))]\n",
    "print('Inner Product: %d' %sum(c_in))\n",
    "\n",
    "c_out = [[x1[i]*x2[j] for j in range(len(x2))]for i in range(len(x1))]\n",
    "print('Outer Product:') # Print Output\n",
    "c_out"
   ]
  },
  {
   "cell_type": "markdown",
   "metadata": {},
   "source": [
    "### even though list comprehensions provide a nice compact way to do this, here is the numpy way..."
   ]
  },
  {
   "cell_type": "code",
   "execution_count": null,
   "metadata": {},
   "outputs": [],
   "source": [
    "n_in = np.inner(x1,x2)\n",
    "n_out = np.outer(x1,x2)\n",
    "print('Inner Product: %d' %n_in)\n",
    "print('Outer Product:')\n",
    "n_out"
   ]
  },
  {
   "cell_type": "markdown",
   "metadata": {},
   "source": [
    "## EXERCISES\n",
    "\n",
    "### Vector Multiplication\n",
    "1. Produce 2 vectors, one with integers in the range [5,10] and the other [15,20] using the np.arange function\n",
    "1. Without using any functions from the numpy module\n",
    "    1. Compute the outer product of those vectors \n",
    "    1. Compute the \"trace\" of the resulting matrix\n",
    "1. Complete the same items using numpy operations\n",
    "1. Is there a more direct way to compute the trace of the outer product than we just implemented? If so implement that using both \"list comprehension\" and numpy operations\n",
    "\n",
    "\n",
    "    "
   ]
  },
  {
   "cell_type": "markdown",
   "metadata": {},
   "source": [
    "### Matrix Multiplication\n",
    "* Two matricies can be multiplied if their inner dimensions match (eg. 2x3 * 3x5 -> 2x5). The best rule for working with and mutliplying matricies is to remember (rows x columns). This applies to both the dimensions of a matrix (a 2x3 matrix has 2 rows and 3 columns) as well as multiplication (you multiply the rows of the first matrix by the columns of the second). \n",
    "\n",
    "* When multiplying two matricies of dimension (mxn)*(nxp) the resulting matrix is (mxp). The upper element of the reslting matrix is the inner (or dot) product of the first row of the first matrix and the first column of the second matrix\n",
    "\n",
    "\n",
    "1. Multiply A by B using (to a reslting matrix C) using:\n",
    "    1. a conventional for-loop\n",
    "    1. list comprehension\n",
    "    1. numpy operator\n",
    "1. Produce a matrix, I, you can multiply by C to get C back using:\n",
    "    1. list comprehension\n",
    "    1. numpy operator"
   ]
  }
 ],
 "metadata": {
  "kernelspec": {
   "display_name": "Python 3",
   "language": "python",
   "name": "python3"
  },
  "language_info": {
   "codemirror_mode": {
    "name": "ipython",
    "version": 3
   },
   "file_extension": ".py",
   "mimetype": "text/x-python",
   "name": "python",
   "nbconvert_exporter": "python",
   "pygments_lexer": "ipython3",
   "version": "3.6.5"
  }
 },
 "nbformat": 4,
 "nbformat_minor": 2
}
